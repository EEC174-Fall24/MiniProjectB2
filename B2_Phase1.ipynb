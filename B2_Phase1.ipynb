{
  "metadata": {
    "kernelspec": {
      "display_name": "Python 3",
      "name": "python3"
    },
    "language_info": {
      "pygments_lexer": "ipython3",
      "nbconvert_exporter": "python",
      "version": "3.6.4",
      "file_extension": ".py",
      "codemirror_mode": {
        "name": "ipython",
        "version": 3
      },
      "name": "python",
      "mimetype": "text/x-python"
    },
    "kaggle": {
      "accelerator": "none",
      "dataSources": [
        {
          "sourceId": 37484,
          "sourceType": "datasetVersion",
          "datasetId": 29414
        }
      ],
      "dockerImageVersionId": 29840,
      "isInternetEnabled": false,
      "language": "python",
      "sourceType": "notebook",
      "isGpuEnabled": false
    },
    "colab": {
      "provenance": []
    }
  },
  "nbformat_minor": 0,
  "nbformat": 4,
  "cells": [
    {
      "cell_type": "markdown",
      "source": [
        "# **Mini-Project B2 Phase 1: Arrhythmia on ECG Classification Using 1D CNN**"
      ],
      "metadata": {
        "id": "uANvp5qWEk3o"
      }
    },
    {
      "cell_type": "markdown",
      "source": [
        "In this lab, you will predict different heartbeat arrhythmia on ECG signals. We will be using the [MIT-BIH Arrhythmia Database](https://physionet.org/content/mitdb/1.0.0/).\n",
        "This database contains 48 half-hour excerpts of two-channel ambulatory ECG recordings, obtained from 47 subjects.\n",
        "\n",
        "**Arrhythmia Dataset:**\n",
        "\n",
        "    Number of Samples: 109446\n",
        "    Number of Categories: 5\n",
        "    Sampling Frequency: 125Hz\n",
        "    Data Source: Physionet's MIT-BIH Arrhythmia Dataset\n",
        "    Classes:\n",
        "    ['Non-ecotic beats (normal beat)':0,\n",
        "    'Supraventricular ectopic beats': 1,\n",
        "    'Ventricular ectopic beats': 2,\n",
        "    'Fusion Beats': 3,\n",
        "    'Unknown Beats': 4]"
      ],
      "metadata": {
        "id": "fQ2AA_U0Ek3p"
      }
    },
    {
      "cell_type": "markdown",
      "source": [
        "# **What is an ECG?**"
      ],
      "metadata": {
        "id": "Gy-jw9doEk3q"
      }
    },
    {
      "cell_type": "markdown",
      "source": [
        "An electrocardiogram (ECG) is a simple test that can be used to check your heart's rhythm and electrical activity.\n",
        "\n",
        "Sensors attached to the skin are used to detect the electrical signals produced by your heart each time it beats.\n",
        "\n",
        "These signals are recorded by a machine and are looked at by a doctor to see if they're unusual.\n",
        "\n",
        "An ECG may be requested by a heart specialist (cardiologist) or any doctor who thinks you might have a problem with your heart, including your GP.\n",
        "That's the result of this test we will analyze."
      ],
      "metadata": {
        "id": "wcCTU-H-Ek3q"
      }
    },
    {
      "cell_type": "markdown",
      "source": [
        "# **1. MIT-BIH Dataset**"
      ],
      "metadata": {
        "id": "HLBnujCmr2gn"
      }
    },
    {
      "cell_type": "markdown",
      "source": [
        "### Imports"
      ],
      "metadata": {
        "id": "X9EmhZOrf44w"
      }
    },
    {
      "cell_type": "code",
      "source": [
        "import numpy as np\n",
        "import pandas as pd\n",
        "import seaborn as sns\n",
        "import time\n",
        "import matplotlib.pyplot as plt\n",
        "\n",
        "import torch\n",
        "import torch.nn as nn\n",
        "import torch.optim as optim\n",
        "from torch.utils.data import DataLoader, TensorDataset\n",
        "\n",
        "from sklearn.model_selection import train_test_split\n",
        "from sklearn.metrics import classification_report\n",
        "from sklearn.model_selection import train_test_split\n",
        "from sklearn.metrics import f1_score\n",
        "from sklearn.metrics import confusion_matrix\n",
        "from sklearn.utils import class_weight\n",
        "\n",
        "import warnings\n",
        "warnings.filterwarnings('ignore')"
      ],
      "metadata": {
        "id": "0ADoCe4af2JZ"
      },
      "execution_count": null,
      "outputs": []
    },
    {
      "cell_type": "markdown",
      "source": [
        "### Dataset Download"
      ],
      "metadata": {
        "id": "9mxOhZtdEk3r"
      }
    },
    {
      "cell_type": "code",
      "source": [
        "import kagglehub\n",
        "import os\n",
        "\n",
        "path1 = kagglehub.dataset_download(\"shayanfazeli/heartbeat\")\n",
        "\n",
        "base_path = '../root/.cache/kagglehub/datasets/shayanfazeli/heartbeat/versions/1'\n",
        "\n",
        "print(os.listdir(base_path))"
      ],
      "metadata": {
        "colab": {
          "base_uri": "https://localhost:8080/"
        },
        "id": "cVtQblN-Er_p",
        "outputId": "431fafb8-af5c-4953-b7e5-f8277481378b"
      },
      "execution_count": null,
      "outputs": [
        {
          "output_type": "stream",
          "name": "stdout",
          "text": [
            "['mitbih_test.csv', 'ptbdb_normal.csv', 'ptbdb_abnormal.csv', 'mitbih_train.csv']\n"
          ]
        }
      ]
    },
    {
      "cell_type": "code",
      "source": [
        "train_df=pd.read_csv(os.path.join(base_path, 'mitbih_train.csv'),header=None)\n",
        "test_df=pd.read_csv(os.path.join(base_path, 'mitbih_test.csv'),header=None)"
      ],
      "metadata": {
        "trusted": true,
        "id": "qOo8KdcIEk3v"
      },
      "outputs": [],
      "execution_count": null
    },
    {
      "cell_type": "markdown",
      "source": [
        "## **1.1 Checking Dataset Imbalance**"
      ],
      "metadata": {
        "id": "IeiR8eb2Ek3v"
      }
    },
    {
      "cell_type": "code",
      "source": [
        "train_df[187]=train_df[187].astype(int)\n",
        "balance=train_df[187].value_counts()\n",
        "print(balance)"
      ],
      "metadata": {
        "trusted": true,
        "colab": {
          "base_uri": "https://localhost:8080/"
        },
        "id": "qjHyjYoOEk3w",
        "outputId": "2e4ea2ee-5b5f-4f84-de1a-dd968999fff4"
      },
      "outputs": [
        {
          "output_type": "stream",
          "name": "stdout",
          "text": [
            "187\n",
            "0    72471\n",
            "4     6431\n",
            "2     5788\n",
            "1     2223\n",
            "3      641\n",
            "Name: count, dtype: int64\n"
          ]
        }
      ],
      "execution_count": null
    },
    {
      "cell_type": "markdown",
      "source": [
        "## **1.2 Visualize Imbalance**\n",
        "We can see an imbalance in the dataset above, but it's still hard to visualize exactly how large the imbalance is.\n",
        "\n",
        "Using Matplotlib create a bargraph or a piechart of our dataset class count."
      ],
      "metadata": {
        "id": "pnlCOlintHbw"
      }
    },
    {
      "cell_type": "code",
      "source": [
        "# Visualize with bargraph or piechart\n",
        "\n",
        "'''\n",
        "\n",
        "YOUR CODE HERE\n",
        "\n",
        "'''"
      ],
      "metadata": {
        "trusted": true,
        "id": "sckMpblOEk3w"
      },
      "outputs": [],
      "execution_count": null
    },
    {
      "cell_type": "markdown",
      "source": [
        "As we can see, there is a large imbalance in the dataset. We will fix this to try to train a more robust model."
      ],
      "metadata": {
        "id": "veoXhWR6s04q"
      }
    },
    {
      "cell_type": "markdown",
      "source": [
        "## **1.3 Fixing Data Imbalance**"
      ],
      "metadata": {
        "id": "Bd8fa7PWg6Ib"
      }
    },
    {
      "cell_type": "markdown",
      "source": [
        "As we've seen in previous labs, imbalance can negatively affect the performance of machine learning models.\n",
        "Resampling is a technique used to address class imbalance in datasets, which occurs when certain classes are underrepresented compared to others.\n",
        "\n",
        "*   **Oversampling (Upsampling):** Increases the number of samples in the minority class by duplicating existing samples or generating new ones (e.g., with techniques like SMOTE). This \"upsizes\" the smaller class to match the size of the majority class.\n",
        "\n",
        "* **Undersampling (Downsampling):** Reduces the number of samples in the majority class to match the size of the minority class by randomly removing samples. This \"downsizes\" the larger class.\n",
        "\n",
        "### **Resample the Data:**\n",
        "\n",
        "Using the `resample()` function from `sklearn.utils`, upsample the underrepresented classes to 20,000 samples each.\n",
        "Concatenate the resampled data to form the new balanced dataset.\n",
        "\n",
        "Then, using your same visualization method above, visualize the resampled dataset."
      ],
      "metadata": {
        "id": "cbsTSQQ9Ek3x"
      }
    },
    {
      "cell_type": "code",
      "source": [
        "'''\n",
        "\n",
        "YOUR CODE HERE\n",
        "\n",
        "'''"
      ],
      "metadata": {
        "trusted": true,
        "id": "nlis3E-4Ek3x"
      },
      "outputs": [],
      "execution_count": null
    },
    {
      "cell_type": "code",
      "source": [
        "# Check class distribution after resampling\n",
        "balance=train_df[187].value_counts()"
      ],
      "metadata": {
        "trusted": true,
        "id": "VWV0RgowEk3y"
      },
      "outputs": [],
      "execution_count": null
    },
    {
      "cell_type": "code",
      "source": [
        "# Visualize resampled data\n",
        "\n",
        "''' TODO '''"
      ],
      "metadata": {
        "trusted": true,
        "id": "C4AeaCJ7Ek3y"
      },
      "outputs": [],
      "execution_count": null
    },
    {
      "cell_type": "markdown",
      "source": [
        "## **1.4 Checking and Visualizing Data by Class**"
      ],
      "metadata": {
        "id": "Nz8URaE6hGFI"
      }
    },
    {
      "cell_type": "markdown",
      "source": [
        "We can take one sample per class and display it in a Pandas dataframe. The class labels are listed in column `train_df[187]`:"
      ],
      "metadata": {
        "id": "n0GMD5E9Ek3z"
      }
    },
    {
      "cell_type": "code",
      "source": [
        "class_df =train_df.groupby(187,group_keys=False).apply(lambda train_df : train_df.sample(1))\n",
        "class_df"
      ],
      "metadata": {
        "trusted": true,
        "id": "eJIMUUdCEk3z",
        "colab": {
          "base_uri": "https://localhost:8080/",
          "height": 236
        },
        "outputId": "96154957-43d7-481c-f8d0-4da1b33e2577"
      },
      "outputs": [
        {
          "output_type": "execute_result",
          "data": {
            "text/plain": [
              "            0         1         2         3         4         5         6    \\\n",
              "40552  0.884477  0.808664  0.490975  0.187726  0.086643  0.093863  0.057762   \n",
              "73895  1.000000  0.874419  0.200000  0.000000  0.074419  0.120930  0.093023   \n",
              "78113  1.000000  0.915575  0.714702  0.475983  0.299854  0.186317  0.117904   \n",
              "80925  1.000000  0.761702  0.482269  0.224113  0.056738  0.076596  0.070922   \n",
              "87384  1.000000  0.517606  0.542253  0.542253  0.517606  0.500000  0.492958   \n",
              "\n",
              "            7         8         9    ...  178  179  180  181  182  183  184  \\\n",
              "40552  0.046931  0.032491  0.046931  ...  0.0  0.0  0.0  0.0  0.0  0.0  0.0   \n",
              "73895  0.139535  0.213953  0.144186  ...  0.0  0.0  0.0  0.0  0.0  0.0  0.0   \n",
              "78113  0.100437  0.097525  0.078603  ...  0.0  0.0  0.0  0.0  0.0  0.0  0.0   \n",
              "80925  0.043972  0.034043  0.024113  ...  0.0  0.0  0.0  0.0  0.0  0.0  0.0   \n",
              "87384  0.447183  0.323944  0.225352  ...  0.0  0.0  0.0  0.0  0.0  0.0  0.0   \n",
              "\n",
              "       185  186  187  \n",
              "40552  0.0  0.0  0.0  \n",
              "73895  0.0  0.0  1.0  \n",
              "78113  0.0  0.0  2.0  \n",
              "80925  0.0  0.0  3.0  \n",
              "87384  0.0  0.0  4.0  \n",
              "\n",
              "[5 rows x 188 columns]"
            ],
            "text/html": [
              "\n",
              "  <div id=\"df-4b301ff6-2b80-4a80-b140-6f41c22bd479\" class=\"colab-df-container\">\n",
              "    <div>\n",
              "<style scoped>\n",
              "    .dataframe tbody tr th:only-of-type {\n",
              "        vertical-align: middle;\n",
              "    }\n",
              "\n",
              "    .dataframe tbody tr th {\n",
              "        vertical-align: top;\n",
              "    }\n",
              "\n",
              "    .dataframe thead th {\n",
              "        text-align: right;\n",
              "    }\n",
              "</style>\n",
              "<table border=\"1\" class=\"dataframe\">\n",
              "  <thead>\n",
              "    <tr style=\"text-align: right;\">\n",
              "      <th></th>\n",
              "      <th>0</th>\n",
              "      <th>1</th>\n",
              "      <th>2</th>\n",
              "      <th>3</th>\n",
              "      <th>4</th>\n",
              "      <th>5</th>\n",
              "      <th>6</th>\n",
              "      <th>7</th>\n",
              "      <th>8</th>\n",
              "      <th>9</th>\n",
              "      <th>...</th>\n",
              "      <th>178</th>\n",
              "      <th>179</th>\n",
              "      <th>180</th>\n",
              "      <th>181</th>\n",
              "      <th>182</th>\n",
              "      <th>183</th>\n",
              "      <th>184</th>\n",
              "      <th>185</th>\n",
              "      <th>186</th>\n",
              "      <th>187</th>\n",
              "    </tr>\n",
              "  </thead>\n",
              "  <tbody>\n",
              "    <tr>\n",
              "      <th>40552</th>\n",
              "      <td>0.884477</td>\n",
              "      <td>0.808664</td>\n",
              "      <td>0.490975</td>\n",
              "      <td>0.187726</td>\n",
              "      <td>0.086643</td>\n",
              "      <td>0.093863</td>\n",
              "      <td>0.057762</td>\n",
              "      <td>0.046931</td>\n",
              "      <td>0.032491</td>\n",
              "      <td>0.046931</td>\n",
              "      <td>...</td>\n",
              "      <td>0.0</td>\n",
              "      <td>0.0</td>\n",
              "      <td>0.0</td>\n",
              "      <td>0.0</td>\n",
              "      <td>0.0</td>\n",
              "      <td>0.0</td>\n",
              "      <td>0.0</td>\n",
              "      <td>0.0</td>\n",
              "      <td>0.0</td>\n",
              "      <td>0.0</td>\n",
              "    </tr>\n",
              "    <tr>\n",
              "      <th>73895</th>\n",
              "      <td>1.000000</td>\n",
              "      <td>0.874419</td>\n",
              "      <td>0.200000</td>\n",
              "      <td>0.000000</td>\n",
              "      <td>0.074419</td>\n",
              "      <td>0.120930</td>\n",
              "      <td>0.093023</td>\n",
              "      <td>0.139535</td>\n",
              "      <td>0.213953</td>\n",
              "      <td>0.144186</td>\n",
              "      <td>...</td>\n",
              "      <td>0.0</td>\n",
              "      <td>0.0</td>\n",
              "      <td>0.0</td>\n",
              "      <td>0.0</td>\n",
              "      <td>0.0</td>\n",
              "      <td>0.0</td>\n",
              "      <td>0.0</td>\n",
              "      <td>0.0</td>\n",
              "      <td>0.0</td>\n",
              "      <td>1.0</td>\n",
              "    </tr>\n",
              "    <tr>\n",
              "      <th>78113</th>\n",
              "      <td>1.000000</td>\n",
              "      <td>0.915575</td>\n",
              "      <td>0.714702</td>\n",
              "      <td>0.475983</td>\n",
              "      <td>0.299854</td>\n",
              "      <td>0.186317</td>\n",
              "      <td>0.117904</td>\n",
              "      <td>0.100437</td>\n",
              "      <td>0.097525</td>\n",
              "      <td>0.078603</td>\n",
              "      <td>...</td>\n",
              "      <td>0.0</td>\n",
              "      <td>0.0</td>\n",
              "      <td>0.0</td>\n",
              "      <td>0.0</td>\n",
              "      <td>0.0</td>\n",
              "      <td>0.0</td>\n",
              "      <td>0.0</td>\n",
              "      <td>0.0</td>\n",
              "      <td>0.0</td>\n",
              "      <td>2.0</td>\n",
              "    </tr>\n",
              "    <tr>\n",
              "      <th>80925</th>\n",
              "      <td>1.000000</td>\n",
              "      <td>0.761702</td>\n",
              "      <td>0.482269</td>\n",
              "      <td>0.224113</td>\n",
              "      <td>0.056738</td>\n",
              "      <td>0.076596</td>\n",
              "      <td>0.070922</td>\n",
              "      <td>0.043972</td>\n",
              "      <td>0.034043</td>\n",
              "      <td>0.024113</td>\n",
              "      <td>...</td>\n",
              "      <td>0.0</td>\n",
              "      <td>0.0</td>\n",
              "      <td>0.0</td>\n",
              "      <td>0.0</td>\n",
              "      <td>0.0</td>\n",
              "      <td>0.0</td>\n",
              "      <td>0.0</td>\n",
              "      <td>0.0</td>\n",
              "      <td>0.0</td>\n",
              "      <td>3.0</td>\n",
              "    </tr>\n",
              "    <tr>\n",
              "      <th>87384</th>\n",
              "      <td>1.000000</td>\n",
              "      <td>0.517606</td>\n",
              "      <td>0.542253</td>\n",
              "      <td>0.542253</td>\n",
              "      <td>0.517606</td>\n",
              "      <td>0.500000</td>\n",
              "      <td>0.492958</td>\n",
              "      <td>0.447183</td>\n",
              "      <td>0.323944</td>\n",
              "      <td>0.225352</td>\n",
              "      <td>...</td>\n",
              "      <td>0.0</td>\n",
              "      <td>0.0</td>\n",
              "      <td>0.0</td>\n",
              "      <td>0.0</td>\n",
              "      <td>0.0</td>\n",
              "      <td>0.0</td>\n",
              "      <td>0.0</td>\n",
              "      <td>0.0</td>\n",
              "      <td>0.0</td>\n",
              "      <td>4.0</td>\n",
              "    </tr>\n",
              "  </tbody>\n",
              "</table>\n",
              "<p>5 rows × 188 columns</p>\n",
              "</div>\n",
              "    <div class=\"colab-df-buttons\">\n",
              "\n",
              "  <div class=\"colab-df-container\">\n",
              "    <button class=\"colab-df-convert\" onclick=\"convertToInteractive('df-4b301ff6-2b80-4a80-b140-6f41c22bd479')\"\n",
              "            title=\"Convert this dataframe to an interactive table.\"\n",
              "            style=\"display:none;\">\n",
              "\n",
              "  <svg xmlns=\"http://www.w3.org/2000/svg\" height=\"24px\" viewBox=\"0 -960 960 960\">\n",
              "    <path d=\"M120-120v-720h720v720H120Zm60-500h600v-160H180v160Zm220 220h160v-160H400v160Zm0 220h160v-160H400v160ZM180-400h160v-160H180v160Zm440 0h160v-160H620v160ZM180-180h160v-160H180v160Zm440 0h160v-160H620v160Z\"/>\n",
              "  </svg>\n",
              "    </button>\n",
              "\n",
              "  <style>\n",
              "    .colab-df-container {\n",
              "      display:flex;\n",
              "      gap: 12px;\n",
              "    }\n",
              "\n",
              "    .colab-df-convert {\n",
              "      background-color: #E8F0FE;\n",
              "      border: none;\n",
              "      border-radius: 50%;\n",
              "      cursor: pointer;\n",
              "      display: none;\n",
              "      fill: #1967D2;\n",
              "      height: 32px;\n",
              "      padding: 0 0 0 0;\n",
              "      width: 32px;\n",
              "    }\n",
              "\n",
              "    .colab-df-convert:hover {\n",
              "      background-color: #E2EBFA;\n",
              "      box-shadow: 0px 1px 2px rgba(60, 64, 67, 0.3), 0px 1px 3px 1px rgba(60, 64, 67, 0.15);\n",
              "      fill: #174EA6;\n",
              "    }\n",
              "\n",
              "    .colab-df-buttons div {\n",
              "      margin-bottom: 4px;\n",
              "    }\n",
              "\n",
              "    [theme=dark] .colab-df-convert {\n",
              "      background-color: #3B4455;\n",
              "      fill: #D2E3FC;\n",
              "    }\n",
              "\n",
              "    [theme=dark] .colab-df-convert:hover {\n",
              "      background-color: #434B5C;\n",
              "      box-shadow: 0px 1px 3px 1px rgba(0, 0, 0, 0.15);\n",
              "      filter: drop-shadow(0px 1px 2px rgba(0, 0, 0, 0.3));\n",
              "      fill: #FFFFFF;\n",
              "    }\n",
              "  </style>\n",
              "\n",
              "    <script>\n",
              "      const buttonEl =\n",
              "        document.querySelector('#df-4b301ff6-2b80-4a80-b140-6f41c22bd479 button.colab-df-convert');\n",
              "      buttonEl.style.display =\n",
              "        google.colab.kernel.accessAllowed ? 'block' : 'none';\n",
              "\n",
              "      async function convertToInteractive(key) {\n",
              "        const element = document.querySelector('#df-4b301ff6-2b80-4a80-b140-6f41c22bd479');\n",
              "        const dataTable =\n",
              "          await google.colab.kernel.invokeFunction('convertToInteractive',\n",
              "                                                    [key], {});\n",
              "        if (!dataTable) return;\n",
              "\n",
              "        const docLinkHtml = 'Like what you see? Visit the ' +\n",
              "          '<a target=\"_blank\" href=https://colab.research.google.com/notebooks/data_table.ipynb>data table notebook</a>'\n",
              "          + ' to learn more about interactive tables.';\n",
              "        element.innerHTML = '';\n",
              "        dataTable['output_type'] = 'display_data';\n",
              "        await google.colab.output.renderOutput(dataTable, element);\n",
              "        const docLink = document.createElement('div');\n",
              "        docLink.innerHTML = docLinkHtml;\n",
              "        element.appendChild(docLink);\n",
              "      }\n",
              "    </script>\n",
              "  </div>\n",
              "\n",
              "\n",
              "<div id=\"df-52cc35b5-eae3-4e4f-adbe-12c83880a180\">\n",
              "  <button class=\"colab-df-quickchart\" onclick=\"quickchart('df-52cc35b5-eae3-4e4f-adbe-12c83880a180')\"\n",
              "            title=\"Suggest charts\"\n",
              "            style=\"display:none;\">\n",
              "\n",
              "<svg xmlns=\"http://www.w3.org/2000/svg\" height=\"24px\"viewBox=\"0 0 24 24\"\n",
              "     width=\"24px\">\n",
              "    <g>\n",
              "        <path d=\"M19 3H5c-1.1 0-2 .9-2 2v14c0 1.1.9 2 2 2h14c1.1 0 2-.9 2-2V5c0-1.1-.9-2-2-2zM9 17H7v-7h2v7zm4 0h-2V7h2v10zm4 0h-2v-4h2v4z\"/>\n",
              "    </g>\n",
              "</svg>\n",
              "  </button>\n",
              "\n",
              "<style>\n",
              "  .colab-df-quickchart {\n",
              "      --bg-color: #E8F0FE;\n",
              "      --fill-color: #1967D2;\n",
              "      --hover-bg-color: #E2EBFA;\n",
              "      --hover-fill-color: #174EA6;\n",
              "      --disabled-fill-color: #AAA;\n",
              "      --disabled-bg-color: #DDD;\n",
              "  }\n",
              "\n",
              "  [theme=dark] .colab-df-quickchart {\n",
              "      --bg-color: #3B4455;\n",
              "      --fill-color: #D2E3FC;\n",
              "      --hover-bg-color: #434B5C;\n",
              "      --hover-fill-color: #FFFFFF;\n",
              "      --disabled-bg-color: #3B4455;\n",
              "      --disabled-fill-color: #666;\n",
              "  }\n",
              "\n",
              "  .colab-df-quickchart {\n",
              "    background-color: var(--bg-color);\n",
              "    border: none;\n",
              "    border-radius: 50%;\n",
              "    cursor: pointer;\n",
              "    display: none;\n",
              "    fill: var(--fill-color);\n",
              "    height: 32px;\n",
              "    padding: 0;\n",
              "    width: 32px;\n",
              "  }\n",
              "\n",
              "  .colab-df-quickchart:hover {\n",
              "    background-color: var(--hover-bg-color);\n",
              "    box-shadow: 0 1px 2px rgba(60, 64, 67, 0.3), 0 1px 3px 1px rgba(60, 64, 67, 0.15);\n",
              "    fill: var(--button-hover-fill-color);\n",
              "  }\n",
              "\n",
              "  .colab-df-quickchart-complete:disabled,\n",
              "  .colab-df-quickchart-complete:disabled:hover {\n",
              "    background-color: var(--disabled-bg-color);\n",
              "    fill: var(--disabled-fill-color);\n",
              "    box-shadow: none;\n",
              "  }\n",
              "\n",
              "  .colab-df-spinner {\n",
              "    border: 2px solid var(--fill-color);\n",
              "    border-color: transparent;\n",
              "    border-bottom-color: var(--fill-color);\n",
              "    animation:\n",
              "      spin 1s steps(1) infinite;\n",
              "  }\n",
              "\n",
              "  @keyframes spin {\n",
              "    0% {\n",
              "      border-color: transparent;\n",
              "      border-bottom-color: var(--fill-color);\n",
              "      border-left-color: var(--fill-color);\n",
              "    }\n",
              "    20% {\n",
              "      border-color: transparent;\n",
              "      border-left-color: var(--fill-color);\n",
              "      border-top-color: var(--fill-color);\n",
              "    }\n",
              "    30% {\n",
              "      border-color: transparent;\n",
              "      border-left-color: var(--fill-color);\n",
              "      border-top-color: var(--fill-color);\n",
              "      border-right-color: var(--fill-color);\n",
              "    }\n",
              "    40% {\n",
              "      border-color: transparent;\n",
              "      border-right-color: var(--fill-color);\n",
              "      border-top-color: var(--fill-color);\n",
              "    }\n",
              "    60% {\n",
              "      border-color: transparent;\n",
              "      border-right-color: var(--fill-color);\n",
              "    }\n",
              "    80% {\n",
              "      border-color: transparent;\n",
              "      border-right-color: var(--fill-color);\n",
              "      border-bottom-color: var(--fill-color);\n",
              "    }\n",
              "    90% {\n",
              "      border-color: transparent;\n",
              "      border-bottom-color: var(--fill-color);\n",
              "    }\n",
              "  }\n",
              "</style>\n",
              "\n",
              "  <script>\n",
              "    async function quickchart(key) {\n",
              "      const quickchartButtonEl =\n",
              "        document.querySelector('#' + key + ' button');\n",
              "      quickchartButtonEl.disabled = true;  // To prevent multiple clicks.\n",
              "      quickchartButtonEl.classList.add('colab-df-spinner');\n",
              "      try {\n",
              "        const charts = await google.colab.kernel.invokeFunction(\n",
              "            'suggestCharts', [key], {});\n",
              "      } catch (error) {\n",
              "        console.error('Error during call to suggestCharts:', error);\n",
              "      }\n",
              "      quickchartButtonEl.classList.remove('colab-df-spinner');\n",
              "      quickchartButtonEl.classList.add('colab-df-quickchart-complete');\n",
              "    }\n",
              "    (() => {\n",
              "      let quickchartButtonEl =\n",
              "        document.querySelector('#df-52cc35b5-eae3-4e4f-adbe-12c83880a180 button');\n",
              "      quickchartButtonEl.style.display =\n",
              "        google.colab.kernel.accessAllowed ? 'block' : 'none';\n",
              "    })();\n",
              "  </script>\n",
              "</div>\n",
              "\n",
              "  <div id=\"id_973771f9-44ce-47bb-a632-75929e6e9aae\">\n",
              "    <style>\n",
              "      .colab-df-generate {\n",
              "        background-color: #E8F0FE;\n",
              "        border: none;\n",
              "        border-radius: 50%;\n",
              "        cursor: pointer;\n",
              "        display: none;\n",
              "        fill: #1967D2;\n",
              "        height: 32px;\n",
              "        padding: 0 0 0 0;\n",
              "        width: 32px;\n",
              "      }\n",
              "\n",
              "      .colab-df-generate:hover {\n",
              "        background-color: #E2EBFA;\n",
              "        box-shadow: 0px 1px 2px rgba(60, 64, 67, 0.3), 0px 1px 3px 1px rgba(60, 64, 67, 0.15);\n",
              "        fill: #174EA6;\n",
              "      }\n",
              "\n",
              "      [theme=dark] .colab-df-generate {\n",
              "        background-color: #3B4455;\n",
              "        fill: #D2E3FC;\n",
              "      }\n",
              "\n",
              "      [theme=dark] .colab-df-generate:hover {\n",
              "        background-color: #434B5C;\n",
              "        box-shadow: 0px 1px 3px 1px rgba(0, 0, 0, 0.15);\n",
              "        filter: drop-shadow(0px 1px 2px rgba(0, 0, 0, 0.3));\n",
              "        fill: #FFFFFF;\n",
              "      }\n",
              "    </style>\n",
              "    <button class=\"colab-df-generate\" onclick=\"generateWithVariable('class_df')\"\n",
              "            title=\"Generate code using this dataframe.\"\n",
              "            style=\"display:none;\">\n",
              "\n",
              "  <svg xmlns=\"http://www.w3.org/2000/svg\" height=\"24px\"viewBox=\"0 0 24 24\"\n",
              "       width=\"24px\">\n",
              "    <path d=\"M7,19H8.4L18.45,9,17,7.55,7,17.6ZM5,21V16.75L18.45,3.32a2,2,0,0,1,2.83,0l1.4,1.43a1.91,1.91,0,0,1,.58,1.4,1.91,1.91,0,0,1-.58,1.4L9.25,21ZM18.45,9,17,7.55Zm-12,3A5.31,5.31,0,0,0,4.9,8.1,5.31,5.31,0,0,0,1,6.5,5.31,5.31,0,0,0,4.9,4.9,5.31,5.31,0,0,0,6.5,1,5.31,5.31,0,0,0,8.1,4.9,5.31,5.31,0,0,0,12,6.5,5.46,5.46,0,0,0,6.5,12Z\"/>\n",
              "  </svg>\n",
              "    </button>\n",
              "    <script>\n",
              "      (() => {\n",
              "      const buttonEl =\n",
              "        document.querySelector('#id_973771f9-44ce-47bb-a632-75929e6e9aae button.colab-df-generate');\n",
              "      buttonEl.style.display =\n",
              "        google.colab.kernel.accessAllowed ? 'block' : 'none';\n",
              "\n",
              "      buttonEl.onclick = () => {\n",
              "        google.colab.notebook.generateWithVariable('class_df');\n",
              "      }\n",
              "      })();\n",
              "    </script>\n",
              "  </div>\n",
              "\n",
              "    </div>\n",
              "  </div>\n"
            ],
            "application/vnd.google.colaboratory.intrinsic+json": {
              "type": "dataframe",
              "variable_name": "class_df"
            }
          },
          "metadata": {},
          "execution_count": 9
        }
      ],
      "execution_count": null
    },
    {
      "cell_type": "markdown",
      "source": [
        "Let's also check the waveform of our data:"
      ],
      "metadata": {
        "id": "o-fYlGTvnsVr"
      }
    },
    {
      "cell_type": "code",
      "source": [
        " plt.plot(class_df.iloc[0,:186])"
      ],
      "metadata": {
        "trusted": true,
        "colab": {
          "base_uri": "https://localhost:8080/",
          "height": 447
        },
        "id": "O7zTdzQwEk30",
        "outputId": "f3bd466a-a057-439d-a953-7e3dc042c20d"
      },
      "outputs": [
        {
          "output_type": "execute_result",
          "data": {
            "text/plain": [
              "[<matplotlib.lines.Line2D at 0x7da3def33730>]"
            ]
          },
          "metadata": {},
          "execution_count": 10
        },
        {
          "output_type": "display_data",
          "data": {
            "text/plain": [
              "<Figure size 640x480 with 1 Axes>"
            ],
            "image/png": "[encoded data removed]"
          },
          "metadata": {}
        }
      ],
      "execution_count": null
    },
    {
      "cell_type": "markdown",
      "source": [
        "Here is one waveform of a normal heartbeat."
      ],
      "metadata": {
        "id": "fQ1ZxN28Ek30"
      }
    },
    {
      "cell_type": "markdown",
      "source": [
        "## **1.5 Plot Heartbeat Waveform for Each Class**\n",
        "\n",
        "Now that we have a visual idea of what the heartbeat waveforms look like, create subplots to display all classes side by side in a single figure for easier comparison. Ensure each plot is labeled with the corresponding class name above it."
      ],
      "metadata": {
        "id": "kET6YGHIhaKa"
      }
    },
    {
      "cell_type": "code",
      "source": [
        "'''\n",
        "\n",
        "YOUR CODE HERE\n",
        "\n",
        "'''\n"
      ],
      "metadata": {
        "id": "YnzEaYnmyeKR"
      },
      "execution_count": null,
      "outputs": []
    },
    {
      "cell_type": "markdown",
      "source": [
        "## **1.7 Data Augmentation and Transforms**"
      ],
      "metadata": {
        "id": "s_WBzGtQEk39"
      }
    },
    {
      "cell_type": "markdown",
      "source": [
        "In the past, we've applied visual augmentations to image datasets such as CIFAR10 and Stanford Cars. We can also apply augmentations on our time-series dataset to help our model generalize. For time-series data, this can include adding transformations like noise or shifts to simulate variability and reduce overfitting.\n",
        "\n",
        "**Augmentation Techniques:**\n",
        "* **Scaling:** Multiply signals by a small random factor.\n",
        "* **Shifting:** Shift the signal along the time axis.\n",
        "* **Flipping:** Reverse the signal.\n",
        "* **Adding Uniform Noise:** Add noise distributed uniformly over a range.\n",
        "\n",
        "One specific augmentation we will add to our dataset is *Gaussian noise*.\n",
        "\n",
        "**Gaussian noise** is a random signal characterized by a normal distribution, where most values cluster around a mean (typically 0). When added to a time-series signal, Gaussian noise mimics natural variability and helps models generalize better.\n",
        "\n",
        "Gaussian noise can be applied by generating a random noise vector of the same length as the signal using np.random.normal() and adding it element-wise to the signal. Adjust the noise's mean and standard deviation to control the intensity of the perturbation.\n",
        "\n",
        "Apply augmentations to the dataset including, but not limited to, *Gaussian noise* :"
      ],
      "metadata": {
        "id": "P1vEO-wcWUGE"
      }
    },
    {
      "cell_type": "code",
      "source": [
        "def add_gaussian_noise(signal):\n",
        "\n",
        "  '''\n",
        "  YOUR CODE HERE\n",
        "  '''\n",
        "\n",
        "  return (signal_with_noise)\n",
        "\n",
        "# Apply other augmentations of your choosing!"
      ],
      "metadata": {
        "trusted": true,
        "id": "52g7hyQCEk3-"
      },
      "outputs": [],
      "execution_count": null
    },
    {
      "cell_type": "markdown",
      "source": [
        "Apply your augmentations, then visualize 2 waveforms from each class with:\n",
        "\n",
        "*   Original Waveform\n",
        "*   Augmented Waveform\n",
        "\n",
        "*Hint:* You can either choose to create your `train_x` dataset here and apply augmentations, or you can apply augmentations to just the selected class waveforms for visualization and create your dataset for training later.\n",
        "\n",
        "Use the same plotting format above to display each class with corresponding waveforms and class names above:"
      ],
      "metadata": {
        "id": "hLpWTN2LEk3-"
      }
    },
    {
      "cell_type": "code",
      "source": [
        "'''\n",
        "\n",
        "YOUR CODE HERE\n",
        "\n",
        "'''\n"
      ],
      "metadata": {
        "trusted": true,
        "id": "XnORGoxaEk3-"
      },
      "outputs": [],
      "execution_count": null
    },
    {
      "cell_type": "markdown",
      "source": [
        "# **2. Training 1D CNN**"
      ],
      "metadata": {
        "id": "V3psm1ZWYkEe"
      }
    },
    {
      "cell_type": "markdown",
      "source": [
        "First, we must format our train and test datasets from the downloaded datasets before we can perform training.\n",
        "\n",
        "*Hint:* Pandas dataframe must be converted to torch tensor to be passed into the model.\n",
        "\n",
        "Then, create dataloaders for the test and train datasets."
      ],
      "metadata": {
        "id": "5_JH1H9fkOJ2"
      }
    },
    {
      "cell_type": "code",
      "source": [
        "# Create train and test datasets from dataframe\n",
        "\n",
        "X_train= ''' TODO '''\n",
        "X_test= ''' TODO '''\n",
        "\n",
        "# If you haven't earlier, apply gaussian noise to your X_train\n",
        "\n",
        "y_train = ''' TODO'''\n",
        "y_test = ''' TODO '''\n"
      ],
      "metadata": {
        "trusted": true,
        "id": "skhpfs80Ek3_"
      },
      "outputs": [],
      "execution_count": null
    },
    {
      "cell_type": "code",
      "source": [
        "# Create dataloader\n",
        "\n",
        "train_dataset = ''' TODO '''\n",
        "test_dataset = ''' TODO '''\n",
        "\n",
        "train_loader =  ''' TODO '''\n",
        "test_loader =  ''' TODO '''"
      ],
      "metadata": {
        "id": "O9T6dTtRLEIh"
      },
      "execution_count": null,
      "outputs": []
    },
    {
      "cell_type": "markdown",
      "source": [
        "## **2.1 Define 1D CNN: ECG-Net!**"
      ],
      "metadata": {
        "id": "LLvV23c3Ek3_"
      }
    },
    {
      "cell_type": "markdown",
      "source": [
        "**Layer 1 *(Input)*:** Convolutional, input channel = 1, output channel = 64, kernel size = 6, stride = 1, padding = 0.\n",
        "\n",
        "**Layer 2 (Hidden 1):** Batch Normalization, input channel = 64.\n",
        "\n",
        "**Layer 3 (Hidden 2):** Max Pooling, kernel size = 3, stride = 2, padding = 1.\n",
        "\n",
        "**Layer 4 (Hidden 3):** Convolutional, input channel = 64, output channel = 64, kernel size = 3, stride = 1, padding = 0.\n",
        "\n",
        "**Layer 5 (Hidden 4):** Batch Normalization, input channel = 64.\n",
        "\n",
        "**Layer 6 (Hidden 5):** Max Pooling, kernel size = 2, stride = 2, padding = 1.\n",
        "\n",
        "**Layer 7 (Hidden 6):** Fully Connected, input channel = \\<you find out\\>, output channel = 64.\n",
        "\n",
        "**Layer 8 (Hidden 7):** Fully Connected, input channel = \\<you find out\\>, output channel = 32.\n",
        "\n",
        "**Layer 9 (Output):** Fully Connected, input channel = \\<you find out\\>, output channel =  \\<you find out\\>\n",
        "\n"
      ],
      "metadata": {
        "id": "P-Vj4IovmK7Q"
      }
    },
    {
      "cell_type": "code",
      "source": [
        "class ECGNET(nn.Module):\n",
        "    ''' TODO '''"
      ],
      "metadata": {
        "trusted": true,
        "id": "XO0TqruaEk4A"
      },
      "outputs": [],
      "execution_count": null
    },
    {
      "cell_type": "markdown",
      "source": [
        "Please create `test_accuracy()`, `train()` and `plot_learning_curves()` functions as we have used before.\n",
        "\n",
        "Then, train your model for 5 epochs and print the loss, accuracy and time taken for training each epoch.\n",
        "\n",
        "If you would like to aim for accuracy higher than 60%, try adding a scheduler or testing different loss functions."
      ],
      "metadata": {
        "id": "D0R_MPFnmzOg"
      }
    },
    {
      "cell_type": "code",
      "source": [
        "def test_accuracy(model, test_loader, device= 'cuda:0'):\n",
        "    ''' TODO '''"
      ],
      "metadata": {
        "id": "FNPuSQvIX5l5"
      },
      "execution_count": null,
      "outputs": []
    },
    {
      "cell_type": "code",
      "source": [
        "def plot_learning_curve(''' TODO '''):\n",
        "    ''' TODO '''"
      ],
      "metadata": {
        "trusted": true,
        "id": "voDhYOYXEk4A"
      },
      "outputs": [],
      "execution_count": null
    },
    {
      "cell_type": "code",
      "source": [
        "model = ECGNET(''' TODO ''').cuda()  # Adjust input and output dimensions\n",
        "\n",
        "optimizer = ''' TODO '''\n",
        "loss_function = ''' TODO '''\n",
        "num_epochs = ''' TODO '''\n",
        "# scheduler = torch.optim.lr_scheduler.StepLR(optimizer, step_size=2, gamma=0.4)\n",
        "\n",
        "# PERFORM TRAINING HERE\n",
        "\n",
        "''' TODO '''"
      ],
      "metadata": {
        "trusted": true,
        "id": "l1J-h8VXEk4B"
      },
      "outputs": [],
      "execution_count": null
    },
    {
      "cell_type": "markdown",
      "source": [
        "## **2.2 Model Performance Visualization**\n",
        "\n",
        "Please visualize your model's performance by plotting learning curves and a confusion matrix of your predictions."
      ],
      "metadata": {
        "id": "XvoJLML-nVBo"
      }
    },
    {
      "cell_type": "code",
      "source": [
        "### TODO\n",
        "\n",
        "plot_learning_curves('''TODO''')"
      ],
      "metadata": {
        "id": "G6URhyN_oBQE"
      },
      "execution_count": null,
      "outputs": []
    },
    {
      "cell_type": "code",
      "source": [
        "def plot_confusion_matrix(''' TODO '''):\n",
        "    ''' TODO '''"
      ],
      "metadata": {
        "id": "rZNnKGlKsXvY"
      },
      "execution_count": null,
      "outputs": []
    },
    {
      "cell_type": "code",
      "source": [
        "### TODO\n",
        "\n",
        "plot_confusion_matrix('''TODO''')"
      ],
      "metadata": {
        "id": "slTShSVwoBYc"
      },
      "execution_count": null,
      "outputs": []
    },
    {
      "cell_type": "markdown",
      "metadata": {
        "id": "7Jq5lg1qDIvy"
      },
      "source": [
        "___\n",
        "___\n",
        "# End of MiniProject B2 Phase 1 😊🥳"
      ]
    }
  ]
}